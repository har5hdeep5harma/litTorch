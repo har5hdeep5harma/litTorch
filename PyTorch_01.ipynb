{
  "nbformat": 4,
  "nbformat_minor": 0,
  "metadata": {
    "colab": {
      "provenance": []
    },
    "kernelspec": {
      "name": "python3",
      "display_name": "Python 3"
    },
    "language_info": {
      "name": "python"
    }
  },
  "cells": [
    {
      "cell_type": "code",
      "execution_count": null,
      "metadata": {
        "colab": {
          "base_uri": "https://localhost:8080/"
        },
        "id": "507eNbTgzmE3",
        "outputId": "b0a7fef0-4a02-4e6a-de11-467d1043b8b3"
      },
      "outputs": [
        {
          "output_type": "stream",
          "name": "stdout",
          "text": [
            "2.8.0+cu126\n"
          ]
        }
      ],
      "source": [
        "import torch\n",
        "import pandas as pd\n",
        "import numpy as np\n",
        "import matplotlib.pyplot as plt\n",
        "print(torch.__version__)"
      ]
    },
    {
      "cell_type": "code",
      "source": [
        "# Creating a Scalar\n",
        "s= torch.tensor(3)\n",
        "s"
      ],
      "metadata": {
        "colab": {
          "base_uri": "https://localhost:8080/"
        },
        "id": "GE55ZAMr0JhP",
        "outputId": "32457b7c-2001-43e8-e945-478fbdb8ba95"
      },
      "execution_count": null,
      "outputs": [
        {
          "output_type": "execute_result",
          "data": {
            "text/plain": [
              "tensor(3)"
            ]
          },
          "metadata": {},
          "execution_count": 4
        }
      ]
    },
    {
      "cell_type": "code",
      "source": [
        "s.ndim"
      ],
      "metadata": {
        "colab": {
          "base_uri": "https://localhost:8080/"
        },
        "id": "jGpRUNWt1HVo",
        "outputId": "7318a878-d6ca-4048-833d-483e905521e5"
      },
      "execution_count": null,
      "outputs": [
        {
          "output_type": "execute_result",
          "data": {
            "text/plain": [
              "0"
            ]
          },
          "metadata": {},
          "execution_count": 5
        }
      ]
    },
    {
      "cell_type": "code",
      "source": [
        "# Creating a Vector\n",
        "v= torch.tensor([1,3])\n",
        "v"
      ],
      "metadata": {
        "colab": {
          "base_uri": "https://localhost:8080/"
        },
        "id": "QWRtUS9Q1Kat",
        "outputId": "edd12d83-a8d2-465f-f529-f7493c3e59c9"
      },
      "execution_count": null,
      "outputs": [
        {
          "output_type": "execute_result",
          "data": {
            "text/plain": [
              "tensor([1, 3])"
            ]
          },
          "metadata": {},
          "execution_count": 6
        }
      ]
    },
    {
      "cell_type": "code",
      "source": [
        "v.ndim"
      ],
      "metadata": {
        "colab": {
          "base_uri": "https://localhost:8080/"
        },
        "id": "a37atRkw1410",
        "outputId": "b1671b96-c1e1-4dc8-98b7-ff426d9d2e18"
      },
      "execution_count": null,
      "outputs": [
        {
          "output_type": "execute_result",
          "data": {
            "text/plain": [
              "1"
            ]
          },
          "metadata": {},
          "execution_count": 7
        }
      ]
    },
    {
      "cell_type": "code",
      "source": [
        "v.shape"
      ],
      "metadata": {
        "colab": {
          "base_uri": "https://localhost:8080/"
        },
        "id": "s_mlWRp616Gx",
        "outputId": "3e3ae35e-eb77-4d6c-ec8e-74fb67f10094"
      },
      "execution_count": null,
      "outputs": [
        {
          "output_type": "execute_result",
          "data": {
            "text/plain": [
              "torch.Size([2])"
            ]
          },
          "metadata": {},
          "execution_count": 8
        }
      ]
    },
    {
      "cell_type": "code",
      "source": [
        "# Creating a Matrix\n",
        "M = torch.tensor([[1,4],\n",
        "                  [3,8]])\n",
        "M"
      ],
      "metadata": {
        "colab": {
          "base_uri": "https://localhost:8080/"
        },
        "id": "znamO8zx175G",
        "outputId": "e24205ea-5b2c-4e7b-c35d-cfe0dd8f4c20"
      },
      "execution_count": null,
      "outputs": [
        {
          "output_type": "execute_result",
          "data": {
            "text/plain": [
              "tensor([[1, 4],\n",
              "        [3, 8]])"
            ]
          },
          "metadata": {},
          "execution_count": 10
        }
      ]
    },
    {
      "cell_type": "code",
      "source": [
        "M.ndim"
      ],
      "metadata": {
        "colab": {
          "base_uri": "https://localhost:8080/"
        },
        "id": "SSNTJVpK2HYl",
        "outputId": "b83a8f57-d618-43a6-b102-0d0746f21c57"
      },
      "execution_count": null,
      "outputs": [
        {
          "output_type": "execute_result",
          "data": {
            "text/plain": [
              "2"
            ]
          },
          "metadata": {},
          "execution_count": 11
        }
      ]
    },
    {
      "cell_type": "code",
      "source": [
        "M[1]"
      ],
      "metadata": {
        "colab": {
          "base_uri": "https://localhost:8080/"
        },
        "id": "zMBRxm9t2dFj",
        "outputId": "d5f87249-327d-43e1-af7a-ef145c4895c1"
      },
      "execution_count": null,
      "outputs": [
        {
          "output_type": "execute_result",
          "data": {
            "text/plain": [
              "tensor([3, 8])"
            ]
          },
          "metadata": {},
          "execution_count": 12
        }
      ]
    },
    {
      "cell_type": "code",
      "source": [
        "M.shape"
      ],
      "metadata": {
        "colab": {
          "base_uri": "https://localhost:8080/"
        },
        "id": "NsFkHRrk2fwD",
        "outputId": "4f0886f5-05dc-4bde-c817-4e38939377f3"
      },
      "execution_count": null,
      "outputs": [
        {
          "output_type": "execute_result",
          "data": {
            "text/plain": [
              "torch.Size([2, 2])"
            ]
          },
          "metadata": {},
          "execution_count": 13
        }
      ]
    },
    {
      "cell_type": "code",
      "source": [
        "# Creating a Tensor\n",
        "T= torch.tensor([[[1,4,6],[2,60,2]],\n",
        "                 [[12,47,56],[21,650,23]]])\n",
        "T"
      ],
      "metadata": {
        "colab": {
          "base_uri": "https://localhost:8080/"
        },
        "id": "6O2HpLF72iPw",
        "outputId": "5dcbd47f-9ca1-4eef-8172-45b8b62114ef"
      },
      "execution_count": null,
      "outputs": [
        {
          "output_type": "execute_result",
          "data": {
            "text/plain": [
              "tensor([[[  1,   4,   6],\n",
              "         [  2,  60,   2]],\n",
              "\n",
              "        [[ 12,  47,  56],\n",
              "         [ 21, 650,  23]]])"
            ]
          },
          "metadata": {},
          "execution_count": 15
        }
      ]
    },
    {
      "cell_type": "code",
      "source": [
        "T.ndim"
      ],
      "metadata": {
        "colab": {
          "base_uri": "https://localhost:8080/"
        },
        "id": "bL3mjlpT3krw",
        "outputId": "301339da-cd6d-47cd-d982-cad6bb81e6fa"
      },
      "execution_count": null,
      "outputs": [
        {
          "output_type": "execute_result",
          "data": {
            "text/plain": [
              "3"
            ]
          },
          "metadata": {},
          "execution_count": 20
        }
      ]
    },
    {
      "cell_type": "code",
      "source": [
        "T.shape"
      ],
      "metadata": {
        "colab": {
          "base_uri": "https://localhost:8080/"
        },
        "id": "4BxUoD3L22cU",
        "outputId": "7ded10e4-2d49-43ec-e8dd-4d1ca05693f9"
      },
      "execution_count": null,
      "outputs": [
        {
          "output_type": "execute_result",
          "data": {
            "text/plain": [
              "torch.Size([2, 2, 3])"
            ]
          },
          "metadata": {},
          "execution_count": 16
        }
      ]
    },
    {
      "cell_type": "code",
      "source": [
        "T[1,0]"
      ],
      "metadata": {
        "colab": {
          "base_uri": "https://localhost:8080/"
        },
        "id": "yz7yNwBU2-uA",
        "outputId": "c4c110ce-b876-430e-e221-34d20e85bd28"
      },
      "execution_count": null,
      "outputs": [
        {
          "output_type": "execute_result",
          "data": {
            "text/plain": [
              "tensor([12, 47, 56])"
            ]
          },
          "metadata": {},
          "execution_count": 19
        }
      ]
    },
    {
      "cell_type": "code",
      "source": [
        "import random"
      ],
      "metadata": {
        "id": "kRvSrek44aW2"
      },
      "execution_count": null,
      "outputs": []
    },
    {
      "cell_type": "code",
      "source": [
        "# Generating Tensor with random integers\n",
        "TDT= torch.tensor([[[random.randint(1,100) for i in range(10)]for j in range(10)]for k in range(3)])"
      ],
      "metadata": {
        "id": "hONxsS_u3FVX"
      },
      "execution_count": 52,
      "outputs": []
    },
    {
      "cell_type": "code",
      "source": [
        "TDT"
      ],
      "metadata": {
        "colab": {
          "base_uri": "https://localhost:8080/"
        },
        "id": "t9nojKUk4TXt",
        "outputId": "689431fc-10f0-4a0b-d8e3-2d0819f6c4ed"
      },
      "execution_count": 53,
      "outputs": [
        {
          "output_type": "execute_result",
          "data": {
            "text/plain": [
              "tensor([[[ 43,  13,  70,  81,  93,  15,  17,  86,  28,   2],\n",
              "         [ 14,  40,  62,   6,  13,  44,   7,   8,  53,  49],\n",
              "         [ 11,  98,   1,  87,  60,  27,   4,  17,  55,   9],\n",
              "         [ 45,  28,  33,  20,  11,  84,  70,  92,  33,  31],\n",
              "         [ 76,  64,  66,  69,  66,  68,  92,  41,  88,  44],\n",
              "         [ 55,  52,  80,  51,  46,  59,  41,  93,  39,  84],\n",
              "         [ 40,  84,  37,  13,  40,  29,  80,  33,  39,  83],\n",
              "         [ 80,  23,  60,  84,  91,  95,  68,  13,  38,  60],\n",
              "         [ 46,  70,   3,  60,  84,  44,  46,  98,  88,  27],\n",
              "         [ 11,  49,   8,  30,  89,  56,  96,  18,  78,  89]],\n",
              "\n",
              "        [[  7,  23,  83,  16,  68,  63,  82,  88,  68,  83],\n",
              "         [ 48,  40,  75,  14,  40,  85,  62, 100,   2,  47],\n",
              "         [ 40,  94,   1,  71,  32,  24,   4, 100,  84,  72],\n",
              "         [ 49,  66,  93,  12,  28,  38,  29,  47,  47,  58],\n",
              "         [ 80,  90,  81,  26,  53,   1,  31,  82,  14,  76],\n",
              "         [ 53,  70,  37,  17,  66,  36,  47,  87,  94,  57],\n",
              "         [ 70,  93,  33,  55,  48,  72,  74,  62,  46,  83],\n",
              "         [ 46,   6,  45,  54,   4,  25,  40,  77,  91,  93],\n",
              "         [ 83,  72,   4,  12,  63,  72,  17,  58,  20,  49],\n",
              "         [ 68,  17, 100,  35,  83,  47,  63,  39,  16,  82]],\n",
              "\n",
              "        [[ 67,  66,  96,  93,  45,  89,  97,  57,  92,  13],\n",
              "         [ 94, 100,  68,  68,  25,  73,  72,   6,  32,  84],\n",
              "         [ 87,  89,  29,  31,  77,  22,  71,  57,  56,   4],\n",
              "         [ 40,  10,  78,  23,  81,  32,  46,  33,  88,  37],\n",
              "         [ 26,  84,  66,   1,  64,  53,  15,  17,  30,  40],\n",
              "         [ 34,  35,  59,  16,  53,  38,  44,  70,  54,   7],\n",
              "         [ 76,   9,  40,  66,  32,  60,   7,  11,  63,   6],\n",
              "         [ 51,  82,  82,  58,  96,  80,  67,   9,  19,  65],\n",
              "         [ 74,  33,  53,  85,  85,   4,  52,  32,  17,  99],\n",
              "         [ 10,  22,  31,  94,  67,  64,  34,  92,  20,  66]]])"
            ]
          },
          "metadata": {},
          "execution_count": 53
        }
      ]
    },
    {
      "cell_type": "code",
      "source": [
        "TDT.shape"
      ],
      "metadata": {
        "id": "BnK6UBjy4URl",
        "colab": {
          "base_uri": "https://localhost:8080/"
        },
        "outputId": "21f389ee-873b-4534-a1bf-4ea9b072d487"
      },
      "execution_count": 54,
      "outputs": [
        {
          "output_type": "execute_result",
          "data": {
            "text/plain": [
              "torch.Size([3, 10, 10])"
            ]
          },
          "metadata": {},
          "execution_count": 54
        }
      ]
    },
    {
      "cell_type": "code",
      "source": [
        "TDT.ndim"
      ],
      "metadata": {
        "colab": {
          "base_uri": "https://localhost:8080/"
        },
        "id": "eeH80JIP-7Mv",
        "outputId": "600aa902-ba38-402e-f4bc-c414842694e4"
      },
      "execution_count": 56,
      "outputs": [
        {
          "output_type": "execute_result",
          "data": {
            "text/plain": [
              "3"
            ]
          },
          "metadata": {},
          "execution_count": 56
        }
      ]
    },
    {
      "cell_type": "code",
      "source": [
        "#Generating random numbers in Tensor\n",
        "torch.rand(2,2,3,4,10)"
      ],
      "metadata": {
        "colab": {
          "base_uri": "https://localhost:8080/"
        },
        "id": "drlgbM6J5guw",
        "outputId": "9e60fef6-7a90-4c24-a6c1-5be3eaa86059"
      },
      "execution_count": 42,
      "outputs": [
        {
          "output_type": "execute_result",
          "data": {
            "text/plain": [
              "tensor([[[[[2.3338e-01, 4.0779e-02, 4.1861e-02, 9.4066e-01, 4.6306e-01,\n",
              "            8.3668e-01, 7.2950e-02, 4.6609e-01, 2.9409e-01, 7.8605e-01],\n",
              "           [2.7252e-02, 7.5268e-01, 8.2054e-01, 5.6816e-01, 3.9012e-01,\n",
              "            4.7676e-01, 4.4422e-01, 4.9040e-01, 8.1429e-01, 6.0086e-01],\n",
              "           [5.4906e-02, 2.8013e-01, 6.3274e-01, 5.8241e-01, 6.7168e-01,\n",
              "            1.3242e-01, 5.9149e-01, 3.4337e-01, 3.8808e-01, 2.0410e-01],\n",
              "           [4.5202e-01, 5.5808e-01, 1.4980e-01, 7.7579e-01, 4.1398e-01,\n",
              "            9.8998e-01, 4.6151e-01, 2.8418e-01, 8.6901e-01, 6.5689e-01]],\n",
              "\n",
              "          [[9.5811e-01, 9.9219e-01, 6.4501e-01, 3.0937e-01, 3.9037e-01,\n",
              "            3.5116e-01, 5.8154e-01, 5.2228e-01, 7.4845e-01, 5.1021e-01],\n",
              "           [5.6259e-02, 4.8638e-01, 1.5168e-01, 1.2169e-01, 3.4148e-01,\n",
              "            3.5325e-03, 3.7044e-01, 9.8719e-01, 9.4100e-01, 4.5299e-01],\n",
              "           [2.2079e-01, 8.3560e-01, 9.3008e-01, 9.2868e-01, 7.1455e-02,\n",
              "            7.6047e-01, 3.5389e-01, 7.0419e-01, 7.0748e-02, 3.6881e-01],\n",
              "           [9.7459e-01, 5.6488e-01, 7.0600e-01, 7.5877e-01, 1.3290e-01,\n",
              "            5.1309e-01, 7.7959e-01, 1.2045e-01, 9.0706e-01, 1.1712e-02]],\n",
              "\n",
              "          [[6.2078e-01, 8.0329e-01, 6.4957e-01, 4.5095e-01, 3.3525e-01,\n",
              "            8.9144e-01, 1.8240e-01, 5.3738e-01, 2.6067e-01, 6.8869e-01],\n",
              "           [4.6858e-01, 2.4545e-01, 8.9577e-02, 7.6822e-01, 8.9332e-01,\n",
              "            8.3006e-01, 9.2367e-01, 5.2112e-01, 7.5691e-01, 6.8668e-01],\n",
              "           [5.0879e-01, 4.0541e-01, 3.8032e-01, 3.1089e-01, 9.8099e-01,\n",
              "            3.4888e-02, 4.1558e-01, 5.3583e-01, 6.8589e-01, 9.9670e-01],\n",
              "           [2.3466e-01, 8.0761e-01, 4.3121e-01, 5.1446e-01, 8.2863e-01,\n",
              "            9.9794e-01, 1.6982e-02, 4.2169e-03, 5.0088e-01, 9.6986e-02]]],\n",
              "\n",
              "\n",
              "         [[[6.8597e-01, 7.0871e-01, 4.5365e-01, 7.2093e-01, 2.6149e-01,\n",
              "            8.9810e-02, 9.3905e-01, 1.3229e-01, 3.2677e-02, 7.3782e-01],\n",
              "           [3.9390e-01, 3.8847e-01, 4.3453e-01, 9.4466e-01, 1.9949e-01,\n",
              "            2.4666e-01, 3.5852e-01, 2.5786e-01, 2.9113e-01, 9.3789e-01],\n",
              "           [5.9186e-01, 1.4738e-01, 7.3039e-01, 6.6494e-01, 5.7055e-01,\n",
              "            4.4836e-01, 2.3648e-01, 9.1006e-01, 3.1865e-02, 5.0487e-01],\n",
              "           [6.1124e-01, 1.4691e-01, 8.5725e-01, 8.0372e-01, 8.8096e-05,\n",
              "            7.6698e-01, 3.4001e-01, 8.2567e-01, 9.1264e-01, 9.2470e-01]],\n",
              "\n",
              "          [[8.6309e-01, 4.5843e-01, 2.9304e-01, 1.2306e-01, 7.3148e-02,\n",
              "            6.4771e-01, 9.8646e-01, 3.5483e-01, 2.6295e-01, 1.1404e-02],\n",
              "           [5.2958e-01, 2.9730e-01, 8.2367e-01, 7.7988e-01, 6.9547e-01,\n",
              "            5.1532e-01, 9.3493e-01, 7.9018e-01, 3.1460e-01, 6.8675e-02],\n",
              "           [9.7605e-01, 7.7482e-01, 4.1466e-01, 1.1543e-01, 2.2265e-01,\n",
              "            9.8299e-01, 3.3590e-01, 4.2363e-01, 3.0026e-01, 8.8147e-01],\n",
              "           [4.8997e-01, 2.8122e-01, 8.9745e-01, 8.2825e-01, 7.4149e-02,\n",
              "            1.1255e-01, 1.4829e-01, 6.3453e-01, 4.5355e-02, 5.3497e-01]],\n",
              "\n",
              "          [[2.7490e-02, 1.9606e-01, 9.9276e-01, 2.7704e-01, 4.5077e-01,\n",
              "            8.3884e-01, 6.0893e-01, 3.2756e-01, 4.1495e-01, 8.1206e-01],\n",
              "           [8.1620e-01, 4.6507e-03, 5.9096e-01, 9.0180e-02, 3.5180e-01,\n",
              "            7.9161e-01, 1.2062e-01, 5.8383e-01, 5.3485e-01, 3.1273e-01],\n",
              "           [8.7875e-01, 7.6010e-01, 9.9597e-01, 6.1586e-02, 8.5037e-01,\n",
              "            7.0894e-01, 5.8025e-01, 9.5634e-01, 5.0395e-01, 1.0726e-01],\n",
              "           [2.1733e-01, 8.8168e-01, 8.6406e-03, 3.9100e-01, 9.2180e-01,\n",
              "            2.4094e-01, 1.4744e-01, 1.5958e-01, 3.9671e-01, 2.7601e-01]]]],\n",
              "\n",
              "\n",
              "\n",
              "        [[[[3.7110e-01, 5.9721e-01, 3.1297e-01, 1.0549e-01, 2.6007e-01,\n",
              "            1.5123e-01, 9.2987e-01, 7.3254e-01, 8.7655e-01, 9.3493e-01],\n",
              "           [8.9826e-01, 5.0205e-01, 1.5175e-01, 6.1444e-01, 6.2145e-01,\n",
              "            4.7086e-01, 3.1104e-01, 2.2507e-01, 7.1388e-01, 4.9801e-01],\n",
              "           [4.1588e-02, 4.2384e-01, 7.6748e-01, 2.4197e-01, 6.9201e-01,\n",
              "            5.2171e-01, 8.2957e-01, 6.7912e-02, 3.9490e-01, 6.9557e-01],\n",
              "           [7.0133e-01, 3.7699e-01, 4.9441e-01, 4.2061e-01, 2.6833e-01,\n",
              "            6.3491e-01, 8.0625e-01, 1.5756e-02, 1.8910e-02, 5.6669e-01]],\n",
              "\n",
              "          [[7.2794e-01, 1.8081e-01, 3.9145e-01, 7.1866e-01, 4.7233e-01,\n",
              "            5.7092e-01, 6.3225e-01, 4.6858e-01, 9.6791e-01, 5.1080e-01],\n",
              "           [5.3882e-01, 2.9325e-01, 3.6535e-01, 9.4781e-01, 8.8523e-01,\n",
              "            4.6380e-01, 4.5781e-01, 7.0378e-01, 1.3415e-01, 7.3210e-01],\n",
              "           [3.5084e-01, 8.9406e-01, 9.4554e-01, 4.2876e-01, 4.3031e-01,\n",
              "            1.1776e-01, 2.7378e-01, 5.3850e-01, 9.1962e-01, 2.6899e-01],\n",
              "           [2.8507e-01, 9.0958e-01, 8.5253e-01, 4.4959e-01, 3.6574e-01,\n",
              "            2.5711e-01, 8.7833e-02, 8.8450e-01, 6.4740e-01, 1.6119e-01]],\n",
              "\n",
              "          [[7.5505e-01, 5.3144e-01, 8.3653e-01, 6.6965e-01, 7.9796e-01,\n",
              "            8.5639e-01, 3.5924e-01, 9.2114e-01, 3.4945e-01, 1.0814e-01],\n",
              "           [3.7945e-01, 6.4827e-02, 5.3147e-01, 6.5311e-01, 2.7945e-01,\n",
              "            6.6208e-01, 1.3985e-01, 9.1489e-01, 3.1029e-01, 8.7047e-01],\n",
              "           [8.4162e-01, 4.4182e-01, 3.4240e-01, 6.8390e-02, 4.2129e-01,\n",
              "            5.5830e-01, 7.7395e-01, 4.1820e-01, 6.2267e-01, 6.6184e-01],\n",
              "           [5.6464e-01, 1.2012e-01, 8.9960e-01, 8.0464e-01, 8.9138e-01,\n",
              "            1.9492e-01, 7.1196e-01, 2.1252e-01, 8.0309e-01, 2.2348e-01]]],\n",
              "\n",
              "\n",
              "         [[[7.3301e-01, 4.0809e-02, 1.0142e-01, 5.0036e-01, 5.5203e-01,\n",
              "            5.0688e-01, 3.4496e-01, 7.8448e-01, 4.8442e-01, 3.2724e-01],\n",
              "           [9.6550e-01, 8.7385e-01, 3.9264e-01, 6.0255e-01, 3.6047e-02,\n",
              "            6.5104e-01, 5.5448e-01, 9.9468e-01, 6.9784e-01, 5.9328e-01],\n",
              "           [6.7566e-01, 6.3086e-02, 5.9836e-01, 5.3139e-01, 4.8434e-01,\n",
              "            2.0033e-01, 8.9244e-01, 2.9470e-02, 7.9338e-01, 7.0214e-01],\n",
              "           [7.6123e-01, 9.7741e-01, 4.0466e-01, 8.8666e-02, 1.5236e-02,\n",
              "            8.2800e-01, 2.1145e-01, 7.1954e-01, 5.7580e-01, 8.3837e-01]],\n",
              "\n",
              "          [[8.6041e-01, 2.7794e-01, 5.8133e-01, 3.2403e-01, 5.8440e-01,\n",
              "            8.6093e-01, 4.3941e-01, 6.3403e-01, 2.5298e-01, 4.2140e-01],\n",
              "           [2.6621e-01, 8.6126e-01, 9.8504e-01, 7.0379e-01, 8.1614e-01,\n",
              "            7.5889e-01, 5.8389e-01, 7.7035e-01, 8.9836e-01, 7.1762e-02],\n",
              "           [9.7352e-01, 9.6935e-01, 5.7474e-01, 4.5191e-01, 2.7127e-01,\n",
              "            2.1686e-01, 6.6338e-01, 9.4365e-01, 6.5225e-01, 6.1851e-01],\n",
              "           [3.7408e-01, 7.0835e-01, 7.9159e-01, 5.6399e-01, 7.0609e-01,\n",
              "            4.6502e-01, 5.0417e-02, 4.4624e-01, 3.1808e-01, 8.4677e-01]],\n",
              "\n",
              "          [[7.2201e-01, 1.7515e-01, 3.7393e-01, 9.1555e-01, 6.0053e-01,\n",
              "            2.2306e-01, 5.5008e-01, 9.0605e-01, 8.5103e-01, 4.7249e-01],\n",
              "           [3.8947e-01, 3.9140e-01, 6.1497e-01, 4.3489e-01, 3.9845e-01,\n",
              "            4.6860e-02, 5.3784e-01, 2.0193e-01, 8.8838e-01, 1.2068e-01],\n",
              "           [7.0426e-01, 6.1658e-01, 7.4818e-01, 2.5784e-02, 3.3505e-01,\n",
              "            1.3668e-01, 4.6518e-02, 6.1870e-01, 8.9470e-01, 2.9102e-01],\n",
              "           [2.0683e-01, 1.5884e-01, 4.5816e-01, 1.1880e-01, 5.5887e-01,\n",
              "            3.4616e-01, 1.3502e-02, 2.9958e-01, 7.2660e-01, 8.2592e-01]]]]])"
            ]
          },
          "metadata": {},
          "execution_count": 42
        }
      ]
    },
    {
      "cell_type": "code",
      "source": [
        "# Generating Tensors using arange\n",
        "T1= torch.arange(120).reshape(3,2,2,10)"
      ],
      "metadata": {
        "id": "nSWuq68b9XYb"
      },
      "execution_count": 58,
      "outputs": []
    },
    {
      "cell_type": "code",
      "source": [
        "T1"
      ],
      "metadata": {
        "colab": {
          "base_uri": "https://localhost:8080/"
        },
        "id": "ix2q90k2ECOC",
        "outputId": "d94c9d89-9243-4f8c-a564-9f2a3f77dafb"
      },
      "execution_count": 59,
      "outputs": [
        {
          "output_type": "execute_result",
          "data": {
            "text/plain": [
              "tensor([[[[  0,   1,   2,   3,   4,   5,   6,   7,   8,   9],\n",
              "          [ 10,  11,  12,  13,  14,  15,  16,  17,  18,  19]],\n",
              "\n",
              "         [[ 20,  21,  22,  23,  24,  25,  26,  27,  28,  29],\n",
              "          [ 30,  31,  32,  33,  34,  35,  36,  37,  38,  39]]],\n",
              "\n",
              "\n",
              "        [[[ 40,  41,  42,  43,  44,  45,  46,  47,  48,  49],\n",
              "          [ 50,  51,  52,  53,  54,  55,  56,  57,  58,  59]],\n",
              "\n",
              "         [[ 60,  61,  62,  63,  64,  65,  66,  67,  68,  69],\n",
              "          [ 70,  71,  72,  73,  74,  75,  76,  77,  78,  79]]],\n",
              "\n",
              "\n",
              "        [[[ 80,  81,  82,  83,  84,  85,  86,  87,  88,  89],\n",
              "          [ 90,  91,  92,  93,  94,  95,  96,  97,  98,  99]],\n",
              "\n",
              "         [[100, 101, 102, 103, 104, 105, 106, 107, 108, 109],\n",
              "          [110, 111, 112, 113, 114, 115, 116, 117, 118, 119]]]])"
            ]
          },
          "metadata": {},
          "execution_count": 59
        }
      ]
    }
  ]
}